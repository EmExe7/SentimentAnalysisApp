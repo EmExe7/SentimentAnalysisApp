{
 "cells": [
  {
   "cell_type": "code",
   "execution_count": 2,
   "id": "3887dcd8-3007-42f1-af26-ff4494e81686",
   "metadata": {},
   "outputs": [
    {
     "name": "stdout",
     "output_type": "stream",
     "text": [
      "                                              review  label\n",
      "0  plot : two teen couples go to a church party ,...      0\n",
      "1  the happy bastard's quick movie review \\ndamn ...      0\n",
      "2  it is movies like these that make a jaded movi...      0\n",
      "3   \" quest for camelot \" is warner bros . ' firs...      0\n",
      "4  synopsis : a mentally unstable man undergoing ...      0\n"
     ]
    }
   ],
   "source": [
    "import os\n",
    "import pandas as pd\n",
    "\n",
    "# Step 1: Load the dataset\n",
    "def load_data(neg_folder='neg', pos_folder='pos'):\n",
    "    neg_reviews = []\n",
    "    pos_reviews = []\n",
    "\n",
    "    # Load negative reviews\n",
    "    for filename in os.listdir(neg_folder):\n",
    "        with open(os.path.join(neg_folder, filename), 'r', encoding='utf-8') as file:\n",
    "            neg_reviews.append(file.read())\n",
    "    \n",
    "    # Load positive reviews\n",
    "    for filename in os.listdir(pos_folder):\n",
    "        with open(os.path.join(pos_folder, filename), 'r', encoding='utf-8') as file:\n",
    "            pos_reviews.append(file.read())\n",
    "\n",
    "    # Create a DataFrame\n",
    "    data = pd.DataFrame({\n",
    "        'review': neg_reviews + pos_reviews,\n",
    "        'label': [0] * len(neg_reviews) + [1] * len(pos_reviews)  # 0 for neg, 1 for pos\n",
    "    })\n",
    "    return data\n",
    "\n",
    "# Call the function to load data\n",
    "dataset = load_data()\n",
    "print(dataset.head())  # Display the first few rows"
   ]
  },
  {
   "cell_type": "code",
   "execution_count": 3,
   "id": "8f8c80db-f429-4da6-ba7f-711aff391fd8",
   "metadata": {},
   "outputs": [
    {
     "data": {
      "text/plain": [
       "['vectorizer.pkl']"
      ]
     },
     "execution_count": 3,
     "metadata": {},
     "output_type": "execute_result"
    }
   ],
   "source": [
    "from sklearn.model_selection import train_test_split\n",
    "from sklearn.feature_extraction.text import CountVectorizer\n",
    "from sklearn.naive_bayes import MultinomialNB\n",
    "import joblib\n",
    "\n",
    "# Step 2: Preprocess and train the model\n",
    "X = dataset['review']\n",
    "y = dataset['label']\n",
    "\n",
    "# Split the data\n",
    "X_train, X_test, y_train, y_test = train_test_split(X, y, test_size=0.2, random_state=42)\n",
    "\n",
    "# Vectorize the text data\n",
    "vectorizer = CountVectorizer()\n",
    "X_train_vectorized = vectorizer.fit_transform(X_train)\n",
    "\n",
    "# Train the model\n",
    "model = MultinomialNB()\n",
    "model.fit(X_train_vectorized, y_train)\n",
    "\n",
    "# Save the model and vectorizer\n",
    "joblib.dump(model, 'sentiment_model.pkl')\n",
    "joblib.dump(vectorizer, 'vectorizer.pkl')"
   ]
  },
  {
   "cell_type": "code",
   "execution_count": null,
   "id": "f6735bea-4336-445f-b0de-6bddf7ef9b51",
   "metadata": {},
   "outputs": [],
   "source": []
  }
 ],
 "metadata": {
  "kernelspec": {
   "display_name": "Python 3 (ipykernel)",
   "language": "python",
   "name": "python3"
  },
  "language_info": {
   "codemirror_mode": {
    "name": "ipython",
    "version": 3
   },
   "file_extension": ".py",
   "mimetype": "text/x-python",
   "name": "python",
   "nbconvert_exporter": "python",
   "pygments_lexer": "ipython3",
   "version": "3.12.4"
  }
 },
 "nbformat": 4,
 "nbformat_minor": 5
}
